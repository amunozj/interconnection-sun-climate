{
 "cells": [
  {
   "cell_type": "markdown",
   "metadata": {},
   "source": [
    "### Remove scroll from figures"
   ]
  },
  {
   "cell_type": "code",
   "execution_count": 2,
   "metadata": {},
   "outputs": [
    {
     "data": {
      "application/javascript": "IPython.OutputArea.prototype._should_scroll = function(lines) {\n    return false;\n}\n",
      "text/plain": [
       "<IPython.core.display.Javascript object>"
      ]
     },
     "metadata": {},
     "output_type": "display_data"
    }
   ],
   "source": [
    "%%javascript\n",
    "IPython.OutputArea.prototype._should_scroll = function(lines) {\n",
    "    return false;\n",
    "}"
   ]
  },
  {
   "cell_type": "markdown",
   "metadata": {},
   "source": [
    "## Extend the size of the Window"
   ]
  },
  {
   "cell_type": "code",
   "execution_count": 3,
   "metadata": {},
   "outputs": [
    {
     "data": {
      "text/html": [
       "<style>.container { width:100% !important; }</style>"
      ],
      "text/plain": [
       "<IPython.core.display.HTML object>"
      ]
     },
     "metadata": {},
     "output_type": "display_data"
    }
   ],
   "source": [
    "from IPython.display import display, HTML\n",
    "display(HTML(\"<style>.container { width:100% !important; }</style>\"))"
   ]
  },
  {
   "cell_type": "markdown",
   "metadata": {},
   "source": [
    "## Load Modules"
   ]
  },
  {
   "cell_type": "code",
   "execution_count": 14,
   "metadata": {},
   "outputs": [],
   "source": [
    "import netCDF4 as nc\n",
    "import glob\n",
    "import numpy as np\n",
    "import pandas as pd\n",
    "import matplotlib.pylab as plt"
   ]
  },
  {
   "cell_type": "markdown",
   "metadata": {},
   "source": [
    "## Read Sunspot Data and create a multi-index pandas dataframe on year and month"
   ]
  },
  {
   "cell_type": "code",
   "execution_count": 6,
   "metadata": {},
   "outputs": [
    {
     "data": {
      "text/html": [
       "<div>\n",
       "<style scoped>\n",
       "    .dataframe tbody tr th:only-of-type {\n",
       "        vertical-align: middle;\n",
       "    }\n",
       "\n",
       "    .dataframe tbody tr th {\n",
       "        vertical-align: top;\n",
       "    }\n",
       "\n",
       "    .dataframe thead th {\n",
       "        text-align: right;\n",
       "    }\n",
       "</style>\n",
       "<table border=\"1\" class=\"dataframe\">\n",
       "  <thead>\n",
       "    <tr style=\"text-align: right;\">\n",
       "      <th></th>\n",
       "      <th></th>\n",
       "      <th>FracYear</th>\n",
       "      <th>SN</th>\n",
       "      <th>SNsd</th>\n",
       "      <th>NObs</th>\n",
       "      <th>prov</th>\n",
       "    </tr>\n",
       "    <tr>\n",
       "      <th>Year</th>\n",
       "      <th>Month</th>\n",
       "      <th></th>\n",
       "      <th></th>\n",
       "      <th></th>\n",
       "      <th></th>\n",
       "      <th></th>\n",
       "    </tr>\n",
       "  </thead>\n",
       "  <tbody>\n",
       "    <tr>\n",
       "      <th rowspan=\"5\" valign=\"top\">1749</th>\n",
       "      <th>1</th>\n",
       "      <td>1749.042</td>\n",
       "      <td>96.7</td>\n",
       "      <td>-1.0</td>\n",
       "      <td>-1</td>\n",
       "      <td>1</td>\n",
       "    </tr>\n",
       "    <tr>\n",
       "      <th>2</th>\n",
       "      <td>1749.123</td>\n",
       "      <td>104.3</td>\n",
       "      <td>-1.0</td>\n",
       "      <td>-1</td>\n",
       "      <td>1</td>\n",
       "    </tr>\n",
       "    <tr>\n",
       "      <th>3</th>\n",
       "      <td>1749.204</td>\n",
       "      <td>116.7</td>\n",
       "      <td>-1.0</td>\n",
       "      <td>-1</td>\n",
       "      <td>1</td>\n",
       "    </tr>\n",
       "    <tr>\n",
       "      <th>4</th>\n",
       "      <td>1749.288</td>\n",
       "      <td>92.8</td>\n",
       "      <td>-1.0</td>\n",
       "      <td>-1</td>\n",
       "      <td>1</td>\n",
       "    </tr>\n",
       "    <tr>\n",
       "      <th>5</th>\n",
       "      <td>1749.371</td>\n",
       "      <td>141.7</td>\n",
       "      <td>-1.0</td>\n",
       "      <td>-1</td>\n",
       "      <td>1</td>\n",
       "    </tr>\n",
       "    <tr>\n",
       "      <th>...</th>\n",
       "      <th>...</th>\n",
       "      <td>...</td>\n",
       "      <td>...</td>\n",
       "      <td>...</td>\n",
       "      <td>...</td>\n",
       "      <td>...</td>\n",
       "    </tr>\n",
       "    <tr>\n",
       "      <th rowspan=\"5\" valign=\"top\">2022</th>\n",
       "      <th>1</th>\n",
       "      <td>2022.042</td>\n",
       "      <td>54.0</td>\n",
       "      <td>12.9</td>\n",
       "      <td>1007</td>\n",
       "      <td>0</td>\n",
       "    </tr>\n",
       "    <tr>\n",
       "      <th>2</th>\n",
       "      <td>2022.122</td>\n",
       "      <td>59.7</td>\n",
       "      <td>13.1</td>\n",
       "      <td>1044</td>\n",
       "      <td>0</td>\n",
       "    </tr>\n",
       "    <tr>\n",
       "      <th>3</th>\n",
       "      <td>2022.204</td>\n",
       "      <td>78.5</td>\n",
       "      <td>13.9</td>\n",
       "      <td>1277</td>\n",
       "      <td>0</td>\n",
       "    </tr>\n",
       "    <tr>\n",
       "      <th>4</th>\n",
       "      <td>2022.286</td>\n",
       "      <td>84.1</td>\n",
       "      <td>15.2</td>\n",
       "      <td>1237</td>\n",
       "      <td>0</td>\n",
       "    </tr>\n",
       "    <tr>\n",
       "      <th>5</th>\n",
       "      <td>2022.371</td>\n",
       "      <td>96.5</td>\n",
       "      <td>16.0</td>\n",
       "      <td>1250</td>\n",
       "      <td>0</td>\n",
       "    </tr>\n",
       "  </tbody>\n",
       "</table>\n",
       "<p>3281 rows × 5 columns</p>\n",
       "</div>"
      ],
      "text/plain": [
       "            FracYear     SN  SNsd  NObs  prov\n",
       "Year Month                                   \n",
       "1749 1      1749.042   96.7  -1.0    -1     1\n",
       "     2      1749.123  104.3  -1.0    -1     1\n",
       "     3      1749.204  116.7  -1.0    -1     1\n",
       "     4      1749.288   92.8  -1.0    -1     1\n",
       "     5      1749.371  141.7  -1.0    -1     1\n",
       "...              ...    ...   ...   ...   ...\n",
       "2022 1      2022.042   54.0  12.9  1007     0\n",
       "     2      2022.122   59.7  13.1  1044     0\n",
       "     3      2022.204   78.5  13.9  1277     0\n",
       "     4      2022.286   84.1  15.2  1237     0\n",
       "     5      2022.371   96.5  16.0  1250     0\n",
       "\n",
       "[3281 rows x 5 columns]"
      ]
     },
     "execution_count": 6,
     "metadata": {},
     "output_type": "execute_result"
    }
   ],
   "source": [
    "# Define path\n",
    "histDataPath = '../../inputs_to_models/sunspot_number/SN_m_tot_V2.0.csv'\n",
    "\n",
    "# Read SN monthly average file with custom column names\n",
    "colnames=['Year', 'Month', 'FracYear', 'SN', 'SNsd', 'NObs', 'prov'] \n",
    "SN = pd.read_csv(histDataPath, delimiter=';', names=colnames)\n",
    "SN = SN.set_index(['Year', 'Month'])\n",
    "\n",
    "SN\n"
   ]
  },
  {
   "cell_type": "markdown",
   "metadata": {},
   "source": [
    "## Read CMIP Data"
   ]
  },
  {
   "cell_type": "code",
   "execution_count": 7,
   "metadata": {},
   "outputs": [],
   "source": [
    "# Define paths\n",
    "histDataPath = '../../data/CMIP/hist-sol/'\n",
    "solDataPath = '../../data/CMIP/hist-sol/'"
   ]
  },
  {
   "cell_type": "code",
   "execution_count": 8,
   "metadata": {},
   "outputs": [],
   "source": [
    "# Find files\n",
    "histFiles = glob.glob(histDataPath + '*.nc')\n",
    "solFiles = glob.glob(solDataPath + '*.nc')"
   ]
  },
  {
   "cell_type": "markdown",
   "metadata": {},
   "source": [
    "### Create variables for hist-sol run"
   ]
  },
  {
   "cell_type": "code",
   "execution_count": 9,
   "metadata": {},
   "outputs": [],
   "source": [
    "# Define variables\n",
    "solLat = None\n",
    "solLon = None\n",
    "solTime = None\n",
    "solTas = None\n",
    "\n",
    "# Read data and concatenate arrays\n",
    "for file in solFiles:\n",
    "    ds = nc.Dataset(file)\n",
    "\n",
    "    if solLat is None:\n",
    "        solLat = ds['lat'][:]\n",
    "    \n",
    "    if solLon is None:\n",
    "        solLon = ds['lon'][:]\n",
    "\n",
    "    if solTime is None:\n",
    "        solTime = ds['time'][:]\n",
    "    else:\n",
    "        solTime = np.concatenate((solTime, ds['time'][:]))\n",
    "\n",
    "    if solTas is None:\n",
    "        solTas = ds['tas'][:]\n",
    "    else:\n",
    "        solTas = np.concatenate((solTas, ds['tas'][:]))        \n"
   ]
  },
  {
   "cell_type": "markdown",
   "metadata": {},
   "source": [
    "### Create variables for hist run"
   ]
  },
  {
   "cell_type": "code",
   "execution_count": 10,
   "metadata": {},
   "outputs": [],
   "source": [
    "# Define variables\n",
    "histLat = None\n",
    "histLon = None\n",
    "histTime = None\n",
    "histTas = None\n",
    "\n",
    "# Read data and concatenate arrays\n",
    "for file in histFiles:\n",
    "    ds = nc.Dataset(file)\n",
    "\n",
    "    if histLat is None:\n",
    "        histLat = ds['lat'][:]\n",
    "    \n",
    "    if histLon is None:\n",
    "        histLon = ds['lon'][:]\n",
    "\n",
    "    if histTime is None:\n",
    "        histTime = ds['time'][:]\n",
    "    else:\n",
    "        histTime = np.concatenate((histTime, ds['time'][:]))\n",
    "\n",
    "    if histTas is None:\n",
    "        histTas = ds['tas'][:]\n",
    "    else:\n",
    "        histTas = np.concatenate((histTas, ds['tas'][:]))        \n"
   ]
  },
  {
   "cell_type": "markdown",
   "metadata": {},
   "source": [
    "### Create datetime variables"
   ]
  },
  {
   "cell_type": "code",
   "execution_count": 11,
   "metadata": {},
   "outputs": [],
   "source": [
    "# Reference date\n",
    "refDate = pd.to_datetime('1850-01-01')\n",
    "solDate = np.array([refDate + pd.Timedelta(day, \"d\") for day in solTime])\n",
    "histDate = np.array([refDate + pd.Timedelta(day, \"d\") for day in histTime])"
   ]
  },
  {
   "cell_type": "markdown",
   "metadata": {},
   "source": [
    "### Create pandas dataframe using time, latitude, and longitude as multi-index"
   ]
  },
  {
   "cell_type": "code",
   "execution_count": 13,
   "metadata": {},
   "outputs": [],
   "source": [
    "solMGdate, solMGlat, solMGlon = np.meshgrid(solDate, histLat, histLon)"
   ]
  },
  {
   "cell_type": "code",
   "execution_count": 15,
   "metadata": {},
   "outputs": [
    {
     "ename": "ValueError",
     "evalue": "cannot reshape array of size 6065280 into shape (1,144)",
     "output_type": "error",
     "traceback": [
      "\u001b[1;31m---------------------------------------------------------------------------\u001b[0m",
      "\u001b[1;31mValueError\u001b[0m                                Traceback (most recent call last)",
      "\u001b[1;32md:\\Mis Documentos\\AAResearch\\Presentations\\2022\\Jack Eddy Symposium\\public_repository\\interconnection-sun-climate\\notebooks\\causality_analysis\\tas_cmip6_causality.ipynb Cell 20'\u001b[0m in \u001b[0;36m<cell line: 1>\u001b[1;34m()\u001b[0m\n\u001b[1;32m----> <a href='vscode-notebook-cell:/d%3A/Mis%20Documentos/AAResearch/Presentations/2022/Jack%20Eddy%20Symposium/public_repository/interconnection-sun-climate/notebooks/causality_analysis/tas_cmip6_causality.ipynb#ch0000020?line=0'>1</a>\u001b[0m plt\u001b[39m.\u001b[39;49mpcolor(solMGlat, solMGlon, solTas[\u001b[39m0\u001b[39;49m,:,:])\n",
      "File \u001b[1;32mc:\\ProgramData\\Anaconda3\\envs\\sun-climate\\lib\\site-packages\\matplotlib\\pyplot.py:2716\u001b[0m, in \u001b[0;36mpcolor\u001b[1;34m(shading, alpha, norm, cmap, vmin, vmax, data, *args, **kwargs)\u001b[0m\n\u001b[0;32m   <a href='file:///c%3A/ProgramData/Anaconda3/envs/sun-climate/lib/site-packages/matplotlib/pyplot.py?line=2711'>2712</a>\u001b[0m \u001b[39m@_copy_docstring_and_deprecators\u001b[39m(Axes\u001b[39m.\u001b[39mpcolor)\n\u001b[0;32m   <a href='file:///c%3A/ProgramData/Anaconda3/envs/sun-climate/lib/site-packages/matplotlib/pyplot.py?line=2712'>2713</a>\u001b[0m \u001b[39mdef\u001b[39;00m \u001b[39mpcolor\u001b[39m(\n\u001b[0;32m   <a href='file:///c%3A/ProgramData/Anaconda3/envs/sun-climate/lib/site-packages/matplotlib/pyplot.py?line=2713'>2714</a>\u001b[0m         \u001b[39m*\u001b[39margs, shading\u001b[39m=\u001b[39m\u001b[39mNone\u001b[39;00m, alpha\u001b[39m=\u001b[39m\u001b[39mNone\u001b[39;00m, norm\u001b[39m=\u001b[39m\u001b[39mNone\u001b[39;00m, cmap\u001b[39m=\u001b[39m\u001b[39mNone\u001b[39;00m,\n\u001b[0;32m   <a href='file:///c%3A/ProgramData/Anaconda3/envs/sun-climate/lib/site-packages/matplotlib/pyplot.py?line=2714'>2715</a>\u001b[0m         vmin\u001b[39m=\u001b[39m\u001b[39mNone\u001b[39;00m, vmax\u001b[39m=\u001b[39m\u001b[39mNone\u001b[39;00m, data\u001b[39m=\u001b[39m\u001b[39mNone\u001b[39;00m, \u001b[39m*\u001b[39m\u001b[39m*\u001b[39mkwargs):\n\u001b[1;32m-> <a href='file:///c%3A/ProgramData/Anaconda3/envs/sun-climate/lib/site-packages/matplotlib/pyplot.py?line=2715'>2716</a>\u001b[0m     __ret \u001b[39m=\u001b[39m gca()\u001b[39m.\u001b[39mpcolor(\n\u001b[0;32m   <a href='file:///c%3A/ProgramData/Anaconda3/envs/sun-climate/lib/site-packages/matplotlib/pyplot.py?line=2716'>2717</a>\u001b[0m         \u001b[39m*\u001b[39margs, shading\u001b[39m=\u001b[39mshading, alpha\u001b[39m=\u001b[39malpha, norm\u001b[39m=\u001b[39mnorm, cmap\u001b[39m=\u001b[39mcmap,\n\u001b[0;32m   <a href='file:///c%3A/ProgramData/Anaconda3/envs/sun-climate/lib/site-packages/matplotlib/pyplot.py?line=2717'>2718</a>\u001b[0m         vmin\u001b[39m=\u001b[39mvmin, vmax\u001b[39m=\u001b[39mvmax,\n\u001b[0;32m   <a href='file:///c%3A/ProgramData/Anaconda3/envs/sun-climate/lib/site-packages/matplotlib/pyplot.py?line=2718'>2719</a>\u001b[0m         \u001b[39m*\u001b[39m\u001b[39m*\u001b[39m({\u001b[39m\"\u001b[39m\u001b[39mdata\u001b[39m\u001b[39m\"\u001b[39m: data} \u001b[39mif\u001b[39;00m data \u001b[39mis\u001b[39;00m \u001b[39mnot\u001b[39;00m \u001b[39mNone\u001b[39;00m \u001b[39melse\u001b[39;00m {}), \u001b[39m*\u001b[39m\u001b[39m*\u001b[39mkwargs)\n\u001b[0;32m   <a href='file:///c%3A/ProgramData/Anaconda3/envs/sun-climate/lib/site-packages/matplotlib/pyplot.py?line=2719'>2720</a>\u001b[0m     sci(__ret)\n\u001b[0;32m   <a href='file:///c%3A/ProgramData/Anaconda3/envs/sun-climate/lib/site-packages/matplotlib/pyplot.py?line=2720'>2721</a>\u001b[0m     \u001b[39mreturn\u001b[39;00m __ret\n",
      "File \u001b[1;32mc:\\ProgramData\\Anaconda3\\envs\\sun-climate\\lib\\site-packages\\matplotlib\\__init__.py:1412\u001b[0m, in \u001b[0;36m_preprocess_data.<locals>.inner\u001b[1;34m(ax, data, *args, **kwargs)\u001b[0m\n\u001b[0;32m   <a href='file:///c%3A/ProgramData/Anaconda3/envs/sun-climate/lib/site-packages/matplotlib/__init__.py?line=1408'>1409</a>\u001b[0m \u001b[39m@functools\u001b[39m\u001b[39m.\u001b[39mwraps(func)\n\u001b[0;32m   <a href='file:///c%3A/ProgramData/Anaconda3/envs/sun-climate/lib/site-packages/matplotlib/__init__.py?line=1409'>1410</a>\u001b[0m \u001b[39mdef\u001b[39;00m \u001b[39minner\u001b[39m(ax, \u001b[39m*\u001b[39margs, data\u001b[39m=\u001b[39m\u001b[39mNone\u001b[39;00m, \u001b[39m*\u001b[39m\u001b[39m*\u001b[39mkwargs):\n\u001b[0;32m   <a href='file:///c%3A/ProgramData/Anaconda3/envs/sun-climate/lib/site-packages/matplotlib/__init__.py?line=1410'>1411</a>\u001b[0m     \u001b[39mif\u001b[39;00m data \u001b[39mis\u001b[39;00m \u001b[39mNone\u001b[39;00m:\n\u001b[1;32m-> <a href='file:///c%3A/ProgramData/Anaconda3/envs/sun-climate/lib/site-packages/matplotlib/__init__.py?line=1411'>1412</a>\u001b[0m         \u001b[39mreturn\u001b[39;00m func(ax, \u001b[39m*\u001b[39m\u001b[39mmap\u001b[39m(sanitize_sequence, args), \u001b[39m*\u001b[39m\u001b[39m*\u001b[39mkwargs)\n\u001b[0;32m   <a href='file:///c%3A/ProgramData/Anaconda3/envs/sun-climate/lib/site-packages/matplotlib/__init__.py?line=1413'>1414</a>\u001b[0m     bound \u001b[39m=\u001b[39m new_sig\u001b[39m.\u001b[39mbind(ax, \u001b[39m*\u001b[39margs, \u001b[39m*\u001b[39m\u001b[39m*\u001b[39mkwargs)\n\u001b[0;32m   <a href='file:///c%3A/ProgramData/Anaconda3/envs/sun-climate/lib/site-packages/matplotlib/__init__.py?line=1414'>1415</a>\u001b[0m     auto_label \u001b[39m=\u001b[39m (bound\u001b[39m.\u001b[39marguments\u001b[39m.\u001b[39mget(label_namer)\n\u001b[0;32m   <a href='file:///c%3A/ProgramData/Anaconda3/envs/sun-climate/lib/site-packages/matplotlib/__init__.py?line=1415'>1416</a>\u001b[0m                   \u001b[39mor\u001b[39;00m bound\u001b[39m.\u001b[39mkwargs\u001b[39m.\u001b[39mget(label_namer))\n",
      "File \u001b[1;32mc:\\ProgramData\\Anaconda3\\envs\\sun-climate\\lib\\site-packages\\matplotlib\\axes\\_axes.py:5783\u001b[0m, in \u001b[0;36mAxes.pcolor\u001b[1;34m(self, shading, alpha, norm, cmap, vmin, vmax, *args, **kwargs)\u001b[0m\n\u001b[0;32m   <a href='file:///c%3A/ProgramData/Anaconda3/envs/sun-climate/lib/site-packages/matplotlib/axes/_axes.py?line=5780'>5781</a>\u001b[0m     shading \u001b[39m=\u001b[39m rcParams[\u001b[39m'\u001b[39m\u001b[39mpcolor.shading\u001b[39m\u001b[39m'\u001b[39m]\n\u001b[0;32m   <a href='file:///c%3A/ProgramData/Anaconda3/envs/sun-climate/lib/site-packages/matplotlib/axes/_axes.py?line=5781'>5782</a>\u001b[0m shading \u001b[39m=\u001b[39m shading\u001b[39m.\u001b[39mlower()\n\u001b[1;32m-> <a href='file:///c%3A/ProgramData/Anaconda3/envs/sun-climate/lib/site-packages/matplotlib/axes/_axes.py?line=5782'>5783</a>\u001b[0m X, Y, C, shading \u001b[39m=\u001b[39m \u001b[39mself\u001b[39;49m\u001b[39m.\u001b[39;49m_pcolorargs(\u001b[39m'\u001b[39;49m\u001b[39mpcolor\u001b[39;49m\u001b[39m'\u001b[39;49m, \u001b[39m*\u001b[39;49margs, shading\u001b[39m=\u001b[39;49mshading,\n\u001b[0;32m   <a href='file:///c%3A/ProgramData/Anaconda3/envs/sun-climate/lib/site-packages/matplotlib/axes/_axes.py?line=5783'>5784</a>\u001b[0m                                     kwargs\u001b[39m=\u001b[39;49mkwargs)\n\u001b[0;32m   <a href='file:///c%3A/ProgramData/Anaconda3/envs/sun-climate/lib/site-packages/matplotlib/axes/_axes.py?line=5784'>5785</a>\u001b[0m Ny, Nx \u001b[39m=\u001b[39m X\u001b[39m.\u001b[39mshape\n\u001b[0;32m   <a href='file:///c%3A/ProgramData/Anaconda3/envs/sun-climate/lib/site-packages/matplotlib/axes/_axes.py?line=5786'>5787</a>\u001b[0m \u001b[39m# convert to MA, if necessary.\u001b[39;00m\n",
      "File \u001b[1;32mc:\\ProgramData\\Anaconda3\\envs\\sun-climate\\lib\\site-packages\\matplotlib\\axes\\_axes.py:5551\u001b[0m, in \u001b[0;36mAxes._pcolorargs\u001b[1;34m(self, funcname, shading, *args, **kwargs)\u001b[0m\n\u001b[0;32m   <a href='file:///c%3A/ProgramData/Anaconda3/envs/sun-climate/lib/site-packages/matplotlib/axes/_axes.py?line=5548'>5549</a>\u001b[0m Ny \u001b[39m=\u001b[39m Y\u001b[39m.\u001b[39mshape[\u001b[39m0\u001b[39m]\n\u001b[0;32m   <a href='file:///c%3A/ProgramData/Anaconda3/envs/sun-climate/lib/site-packages/matplotlib/axes/_axes.py?line=5549'>5550</a>\u001b[0m \u001b[39mif\u001b[39;00m X\u001b[39m.\u001b[39mndim \u001b[39m!=\u001b[39m \u001b[39m2\u001b[39m \u001b[39mor\u001b[39;00m X\u001b[39m.\u001b[39mshape[\u001b[39m0\u001b[39m] \u001b[39m==\u001b[39m \u001b[39m1\u001b[39m:\n\u001b[1;32m-> <a href='file:///c%3A/ProgramData/Anaconda3/envs/sun-climate/lib/site-packages/matplotlib/axes/_axes.py?line=5550'>5551</a>\u001b[0m     x \u001b[39m=\u001b[39m X\u001b[39m.\u001b[39;49mreshape(\u001b[39m1\u001b[39;49m, Nx)\n\u001b[0;32m   <a href='file:///c%3A/ProgramData/Anaconda3/envs/sun-climate/lib/site-packages/matplotlib/axes/_axes.py?line=5551'>5552</a>\u001b[0m     X \u001b[39m=\u001b[39m x\u001b[39m.\u001b[39mrepeat(Ny, axis\u001b[39m=\u001b[39m\u001b[39m0\u001b[39m)\n\u001b[0;32m   <a href='file:///c%3A/ProgramData/Anaconda3/envs/sun-climate/lib/site-packages/matplotlib/axes/_axes.py?line=5552'>5553</a>\u001b[0m \u001b[39mif\u001b[39;00m Y\u001b[39m.\u001b[39mndim \u001b[39m!=\u001b[39m \u001b[39m2\u001b[39m \u001b[39mor\u001b[39;00m Y\u001b[39m.\u001b[39mshape[\u001b[39m1\u001b[39m] \u001b[39m==\u001b[39m \u001b[39m1\u001b[39m:\n",
      "File \u001b[1;32mc:\\ProgramData\\Anaconda3\\envs\\sun-climate\\lib\\site-packages\\numpy\\ma\\core.py:4655\u001b[0m, in \u001b[0;36mMaskedArray.reshape\u001b[1;34m(self, *s, **kwargs)\u001b[0m\n\u001b[0;32m   <a href='file:///c%3A/ProgramData/Anaconda3/envs/sun-climate/lib/site-packages/numpy/ma/core.py?line=4596'>4597</a>\u001b[0m \u001b[39m\"\"\"\u001b[39;00m\n\u001b[0;32m   <a href='file:///c%3A/ProgramData/Anaconda3/envs/sun-climate/lib/site-packages/numpy/ma/core.py?line=4597'>4598</a>\u001b[0m \u001b[39mGive a new shape to the array without changing its data.\u001b[39;00m\n\u001b[0;32m   <a href='file:///c%3A/ProgramData/Anaconda3/envs/sun-climate/lib/site-packages/numpy/ma/core.py?line=4598'>4599</a>\u001b[0m \n\u001b[1;32m   (...)\u001b[0m\n\u001b[0;32m   <a href='file:///c%3A/ProgramData/Anaconda3/envs/sun-climate/lib/site-packages/numpy/ma/core.py?line=4651'>4652</a>\u001b[0m \n\u001b[0;32m   <a href='file:///c%3A/ProgramData/Anaconda3/envs/sun-climate/lib/site-packages/numpy/ma/core.py?line=4652'>4653</a>\u001b[0m \u001b[39m\"\"\"\u001b[39;00m\n\u001b[0;32m   <a href='file:///c%3A/ProgramData/Anaconda3/envs/sun-climate/lib/site-packages/numpy/ma/core.py?line=4653'>4654</a>\u001b[0m kwargs\u001b[39m.\u001b[39mupdate(order\u001b[39m=\u001b[39mkwargs\u001b[39m.\u001b[39mget(\u001b[39m'\u001b[39m\u001b[39morder\u001b[39m\u001b[39m'\u001b[39m, \u001b[39m'\u001b[39m\u001b[39mC\u001b[39m\u001b[39m'\u001b[39m))\n\u001b[1;32m-> <a href='file:///c%3A/ProgramData/Anaconda3/envs/sun-climate/lib/site-packages/numpy/ma/core.py?line=4654'>4655</a>\u001b[0m result \u001b[39m=\u001b[39m \u001b[39mself\u001b[39m\u001b[39m.\u001b[39m_data\u001b[39m.\u001b[39mreshape(\u001b[39m*\u001b[39ms, \u001b[39m*\u001b[39m\u001b[39m*\u001b[39mkwargs)\u001b[39m.\u001b[39mview(\u001b[39mtype\u001b[39m(\u001b[39mself\u001b[39m))\n\u001b[0;32m   <a href='file:///c%3A/ProgramData/Anaconda3/envs/sun-climate/lib/site-packages/numpy/ma/core.py?line=4655'>4656</a>\u001b[0m result\u001b[39m.\u001b[39m_update_from(\u001b[39mself\u001b[39m)\n\u001b[0;32m   <a href='file:///c%3A/ProgramData/Anaconda3/envs/sun-climate/lib/site-packages/numpy/ma/core.py?line=4656'>4657</a>\u001b[0m mask \u001b[39m=\u001b[39m \u001b[39mself\u001b[39m\u001b[39m.\u001b[39m_mask\n",
      "\u001b[1;31mValueError\u001b[0m: cannot reshape array of size 6065280 into shape (1,144)"
     ]
    },
    {
     "data": {
      "image/png": "[encoded data removed]",
      "text/plain": [
       "<Figure size 432x288 with 1 Axes>"
      ]
     },
     "metadata": {
      "needs_background": "light"
     },
     "output_type": "display_data"
    }
   ],
   "source": [
    "plt.pcolor(solMGlat, solMGlon, solTas[0,:,:])"
   ]
  },
  {
   "cell_type": "code",
   "execution_count": null,
   "metadata": {},
   "outputs": [],
   "source": []
  }
 ],
 "metadata": {
  "interpreter": {
   "hash": "e6c59f9865e50a05058ea6d43e395857ef37350714bb8cd2b49d9e47dbe96d86"
  },
  "kernelspec": {
   "display_name": "Python 3.10.4 ('sun-climate')",
   "language": "python",
   "name": "python3"
  },
  "language_info": {
   "codemirror_mode": {
    "name": "ipython",
    "version": 3
   },
   "file_extension": ".py",
   "mimetype": "text/x-python",
   "name": "python",
   "nbconvert_exporter": "python",
   "pygments_lexer": "ipython3",
   "version": "3.10.4"
  },
  "orig_nbformat": 4
 },
 "nbformat": 4,
 "nbformat_minor": 2
}
